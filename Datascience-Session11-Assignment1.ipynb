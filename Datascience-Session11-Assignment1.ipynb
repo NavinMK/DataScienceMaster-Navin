{
 "cells": [
  {
   "cell_type": "code",
   "execution_count": 83,
   "metadata": {},
   "outputs": [
    {
     "name": "stdout",
     "output_type": "stream",
     "text": [
      "0    10045\n",
      "1    10055\n",
      "2    10065\n",
      "3    10075\n",
      "4    10085\n",
      "Name: FlightNumber, dtype: int32\n"
     ]
    }
   ],
   "source": [
    "#Some values in the the FlightNumber column are missing. These numbers are meant\n",
    "#to increase by 10 with each row so 10055 and 10075 need to be put in place. Fill in\n",
    "#these missing numbers and make the column an integer column (instead of a float\n",
    "#column).\n",
    "import pandas as pd\n",
    "import numpy as np\n",
    "import math\n",
    "df = pd.DataFrame({'From_To': ['LoNDon_paris', 'MAdrid_miLAN', 'SondON_StockhOlm',\n",
    "'Budapest_PaRis', 'Brussels_londOn'],\n",
    "'FlightNumber': [10045, np.nan, 10065, np.nan, 10085],\n",
    "'RecentDelays': [[23, 47], [], [24, 43, 87], [13], [67, 32]],\n",
    "'Airline': ['KLM(!)', '<Air France> (12)', '(British Airways. )',\n",
    "'12. Air France', '\"Swiss Air\"']})\n",
    "\n",
    "\n",
    "for i in range(1, len(df)):\n",
    "    if math.isnan(df.loc[i, \"FlightNumber\"])==True:\n",
    "        df.loc[i, \"FlightNumber\"] =(df.loc[(i-1), \"FlightNumber\"]+10)\n",
    "df[[\"FlightNumber\"]] = df[[\"FlightNumber\"]].astype(int)\n",
    "print(df.iloc[:,1])\n",
    "\n"
   ]
  },
  {
   "cell_type": "code",
   "execution_count": 84,
   "metadata": {},
   "outputs": [
    {
     "name": "stdout",
     "output_type": "stream",
     "text": [
      "       From         To\n",
      "0    LoNDon      paris\n",
      "1    MAdrid      miLAN\n",
      "2    SondON  StockhOlm\n",
      "3  Budapest      PaRis\n",
      "4  Brussels     londOn\n"
     ]
    }
   ],
   "source": [
    "#The From_To column would be better as two separate columns! Split each string on\n",
    "#the underscore delimiter _ to give a new temporary DataFrame with the correct values.\n",
    "#Assign the correct column names to this temporary DataFrame.\n",
    "tempSer =df.loc[:,\"From_To\"]\n",
    "arr=tempSer.str.split(\"_\")\n",
    "tempdf=pd.DataFrame([],columns=['From', 'To'])\n",
    "for i in range(0,len(arr)):\n",
    "    tempdf.loc[i,'From']= arr[i][0]\n",
    "    tempdf.loc[i,'To']= arr[i][1]\n",
    "   \n",
    "print(tempdf)\n"
   ]
  },
  {
   "cell_type": "code",
   "execution_count": 85,
   "metadata": {},
   "outputs": [
    {
     "name": "stdout",
     "output_type": "stream",
     "text": [
      "       From         To\n",
      "0    LONDON      PARIS\n",
      "1    MADRID      MILAN\n",
      "2    SONDON  STOCKHOLM\n",
      "3  BUDAPEST      PARIS\n",
      "4  BRUSSELS     LONDON\n"
     ]
    }
   ],
   "source": [
    "#3. Notice how the capitalisation of the city names is all mixed up in this temporary\n",
    "#DataFrame. Standardise the strings so that only the first letter is uppercase (e.g.\n",
    "#\"londON\" should become \"London\".)\n",
    "tempdf.loc[:,\"From\"] = tempdf.loc[:,\"From\"].str.upper()\n",
    "tempdf.loc[:,\"To\"] = tempdf.loc[:,\"To\"].str.upper()\n",
    "print(tempdf.iloc[:,:])"
   ]
  },
  {
   "cell_type": "code",
   "execution_count": 86,
   "metadata": {},
   "outputs": [
    {
     "data": {
      "text/html": [
       "<div>\n",
       "<style>\n",
       "    .dataframe thead tr:only-child th {\n",
       "        text-align: right;\n",
       "    }\n",
       "\n",
       "    .dataframe thead th {\n",
       "        text-align: left;\n",
       "    }\n",
       "\n",
       "    .dataframe tbody tr th {\n",
       "        vertical-align: top;\n",
       "    }\n",
       "</style>\n",
       "<table border=\"1\" class=\"dataframe\">\n",
       "  <thead>\n",
       "    <tr style=\"text-align: right;\">\n",
       "      <th></th>\n",
       "      <th>Airline</th>\n",
       "      <th>FlightNumber</th>\n",
       "      <th>RecentDelays</th>\n",
       "      <th>From</th>\n",
       "      <th>To</th>\n",
       "    </tr>\n",
       "  </thead>\n",
       "  <tbody>\n",
       "    <tr>\n",
       "      <th>0</th>\n",
       "      <td>KLM(!)</td>\n",
       "      <td>10045</td>\n",
       "      <td>[23, 47]</td>\n",
       "      <td>LONDON</td>\n",
       "      <td>PARIS</td>\n",
       "    </tr>\n",
       "    <tr>\n",
       "      <th>1</th>\n",
       "      <td>&lt;Air France&gt; (12)</td>\n",
       "      <td>10055</td>\n",
       "      <td>[]</td>\n",
       "      <td>MADRID</td>\n",
       "      <td>MILAN</td>\n",
       "    </tr>\n",
       "    <tr>\n",
       "      <th>2</th>\n",
       "      <td>(British Airways. )</td>\n",
       "      <td>10065</td>\n",
       "      <td>[24, 43, 87]</td>\n",
       "      <td>SONDON</td>\n",
       "      <td>STOCKHOLM</td>\n",
       "    </tr>\n",
       "    <tr>\n",
       "      <th>3</th>\n",
       "      <td>12. Air France</td>\n",
       "      <td>10075</td>\n",
       "      <td>[13]</td>\n",
       "      <td>BUDAPEST</td>\n",
       "      <td>PARIS</td>\n",
       "    </tr>\n",
       "    <tr>\n",
       "      <th>4</th>\n",
       "      <td>\"Swiss Air\"</td>\n",
       "      <td>10085</td>\n",
       "      <td>[67, 32]</td>\n",
       "      <td>BRUSSELS</td>\n",
       "      <td>LONDON</td>\n",
       "    </tr>\n",
       "  </tbody>\n",
       "</table>\n",
       "</div>"
      ],
      "text/plain": [
       "               Airline  FlightNumber  RecentDelays      From         To\n",
       "0               KLM(!)         10045      [23, 47]    LONDON      PARIS\n",
       "1    <Air France> (12)         10055            []    MADRID      MILAN\n",
       "2  (British Airways. )         10065  [24, 43, 87]    SONDON  STOCKHOLM\n",
       "3       12. Air France         10075          [13]  BUDAPEST      PARIS\n",
       "4          \"Swiss Air\"         10085      [67, 32]  BRUSSELS     LONDON"
      ]
     },
     "execution_count": 86,
     "metadata": {},
     "output_type": "execute_result"
    }
   ],
   "source": [
    "#Delete the From_To column from df and attach the temporary DataFrame from the previous questions.\n",
    "df.drop([\"From_To\"],axis=1,inplace=True)\n",
    "df[[\"From\",\"To\"]] = tempdf\n",
    "df"
   ]
  },
  {
   "cell_type": "code",
   "execution_count": 87,
   "metadata": {},
   "outputs": [
    {
     "data": {
      "text/html": [
       "<div>\n",
       "<style>\n",
       "    .dataframe thead tr:only-child th {\n",
       "        text-align: right;\n",
       "    }\n",
       "\n",
       "    .dataframe thead th {\n",
       "        text-align: left;\n",
       "    }\n",
       "\n",
       "    .dataframe tbody tr th {\n",
       "        vertical-align: top;\n",
       "    }\n",
       "</style>\n",
       "<table border=\"1\" class=\"dataframe\">\n",
       "  <thead>\n",
       "    <tr style=\"text-align: right;\">\n",
       "      <th></th>\n",
       "      <th>Airline</th>\n",
       "      <th>FlightNumber</th>\n",
       "      <th>RecentDelays</th>\n",
       "      <th>From</th>\n",
       "      <th>To</th>\n",
       "      <th>delay_1</th>\n",
       "      <th>delay_2</th>\n",
       "      <th>delay_3</th>\n",
       "    </tr>\n",
       "  </thead>\n",
       "  <tbody>\n",
       "    <tr>\n",
       "      <th>0</th>\n",
       "      <td>KLM(!)</td>\n",
       "      <td>10045</td>\n",
       "      <td>[23, 47]</td>\n",
       "      <td>LONDON</td>\n",
       "      <td>PARIS</td>\n",
       "      <td>23.0</td>\n",
       "      <td>47.0</td>\n",
       "      <td>NaN</td>\n",
       "    </tr>\n",
       "    <tr>\n",
       "      <th>1</th>\n",
       "      <td>&lt;Air France&gt; (12)</td>\n",
       "      <td>10055</td>\n",
       "      <td>[]</td>\n",
       "      <td>MADRID</td>\n",
       "      <td>MILAN</td>\n",
       "      <td>NaN</td>\n",
       "      <td>NaN</td>\n",
       "      <td>NaN</td>\n",
       "    </tr>\n",
       "    <tr>\n",
       "      <th>2</th>\n",
       "      <td>(British Airways. )</td>\n",
       "      <td>10065</td>\n",
       "      <td>[24, 43, 87]</td>\n",
       "      <td>SONDON</td>\n",
       "      <td>STOCKHOLM</td>\n",
       "      <td>24.0</td>\n",
       "      <td>43.0</td>\n",
       "      <td>87.0</td>\n",
       "    </tr>\n",
       "    <tr>\n",
       "      <th>3</th>\n",
       "      <td>12. Air France</td>\n",
       "      <td>10075</td>\n",
       "      <td>[13]</td>\n",
       "      <td>BUDAPEST</td>\n",
       "      <td>PARIS</td>\n",
       "      <td>13.0</td>\n",
       "      <td>NaN</td>\n",
       "      <td>NaN</td>\n",
       "    </tr>\n",
       "    <tr>\n",
       "      <th>4</th>\n",
       "      <td>\"Swiss Air\"</td>\n",
       "      <td>10085</td>\n",
       "      <td>[67, 32]</td>\n",
       "      <td>BRUSSELS</td>\n",
       "      <td>LONDON</td>\n",
       "      <td>67.0</td>\n",
       "      <td>32.0</td>\n",
       "      <td>NaN</td>\n",
       "    </tr>\n",
       "  </tbody>\n",
       "</table>\n",
       "</div>"
      ],
      "text/plain": [
       "               Airline  FlightNumber  RecentDelays      From         To  \\\n",
       "0               KLM(!)         10045      [23, 47]    LONDON      PARIS   \n",
       "1    <Air France> (12)         10055            []    MADRID      MILAN   \n",
       "2  (British Airways. )         10065  [24, 43, 87]    SONDON  STOCKHOLM   \n",
       "3       12. Air France         10075          [13]  BUDAPEST      PARIS   \n",
       "4          \"Swiss Air\"         10085      [67, 32]  BRUSSELS     LONDON   \n",
       "\n",
       "   delay_1  delay_2  delay_3  \n",
       "0     23.0     47.0      NaN  \n",
       "1      NaN      NaN      NaN  \n",
       "2     24.0     43.0     87.0  \n",
       "3     13.0      NaN      NaN  \n",
       "4     67.0     32.0      NaN  "
      ]
     },
     "execution_count": 87,
     "metadata": {},
     "output_type": "execute_result"
    }
   ],
   "source": [
    "#In the RecentDelays column, the values have been entered into the DataFrame as a list. We would like each first value in its own column, each second value in its own \n",
    "#column, and so on. If there isn't an Nth value, the value should be NaN.\n",
    "#Expand the Series of lists into a DataFrame named delays, rename the columns delay_1,delay_2, etc. and replace the unwanted RecentDelays column in df with delays.\n",
    "recdelays= df.iloc[:,2].astype(list)\n",
    "delays = pd.DataFrame([])\n",
    "for i  in range(0,len(recdelays)):\n",
    "   if (recdelays[i]==0):\n",
    "       delays.loc[i,(j+1)]= []\n",
    "       continue\n",
    "   else:\n",
    "       for j in range(0,len(recdelays[i])):             \n",
    "            delays.loc[i,(j+1)] = recdelays[i][j]    \n",
    "delays.rename(columns={1:\"delay_1\",2:\"delay_2\",3:\"delay_3\"},inplace=True)\n",
    "df = pd.concat([df, delays], axis=1)\n",
    "df\n"
   ]
  },
  {
   "cell_type": "code",
   "execution_count": null,
   "metadata": {
    "collapsed": true
   },
   "outputs": [],
   "source": []
  }
 ],
 "metadata": {
  "kernelspec": {
   "display_name": "Python 3",
   "language": "python",
   "name": "python3"
  },
  "language_info": {
   "codemirror_mode": {
    "name": "ipython",
    "version": 3
   },
   "file_extension": ".py",
   "mimetype": "text/x-python",
   "name": "python",
   "nbconvert_exporter": "python",
   "pygments_lexer": "ipython3",
   "version": "3.6.2"
  }
 },
 "nbformat": 4,
 "nbformat_minor": 2
}
