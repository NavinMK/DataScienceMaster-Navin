{
 "cells": [
  {
   "cell_type": "code",
   "execution_count": 2,
   "metadata": {},
   "outputs": [
    {
     "data": {
      "text/plain": [
       "3.4264958230778435e-06"
      ]
     },
     "execution_count": 2,
     "metadata": {},
     "output_type": "execute_result"
    }
   ],
   "source": [
    "#Problem Statement 1:A test is conducted which is consisting of 20 MCQs (multiple choices questions) with\n",
    "#every MCQ having its four options out of which only one is correct. Determine the\n",
    "#probability that a person undertaking that test has answered exactly 5 questions wrong.\n",
    "from scipy.stats import binom\n",
    "binom.pmf(5, 20, 0.75)\n",
    "\n"
   ]
  },
  {
   "cell_type": "code",
   "execution_count": 3,
   "metadata": {},
   "outputs": [
    {
     "data": {
      "text/plain": [
       "0.074502258992861559"
      ]
     },
     "execution_count": 3,
     "metadata": {},
     "output_type": "execute_result"
    }
   ],
   "source": [
    "#Problem Statement 2:A die marked A to E is rolled 50 times. Find the probability of getting a “D” exactly 5 times.\n",
    "binom.pmf(5, 50, (1/6))\n",
    "\n"
   ]
  },
  {
   "cell_type": "code",
   "execution_count": 24,
   "metadata": {},
   "outputs": [
    {
     "name": "stdout",
     "output_type": "stream",
     "text": [
      "Probability of 3 both blacks   0.164609053498\n",
      "Probability of 2 both black  0.329218106996\n",
      "Probability of 1 both blacks  0.329218106996\n"
     ]
    }
   ],
   "source": [
    "#Problem Statement 3:Two balls are drawn at random in succession without replacement from an urn containing \n",
    "#4 red balls and 6 black balls.Find the probabilities of all the possible outcomes.\n",
    "#possible outcomes (BB,BB,BB,RR,RR),(BB,BB,BR,BR,RR),(BB,RB,RB,RB,RB) * 8 combinations = 24\n",
    "#Probability of 3 both blacks coming in 5 possible trials\n",
    "print(\"Probability of 3 both blacks  \" , binom.pmf(3, 5, (8/24)))\n",
    "#Probability of 2 both blacks coming in 5 possible trials\n",
    "print(\"Probability of 2 both black \" , binom.pmf(2, 5, (8/24)))\n",
    "#Probability of 1 both blacks coming in 5 possible trials\n",
    "print(\"Probability of 1 both blacks \" , binom.pmf(1, 5, (8/24)))\n"
   ]
  },
  {
   "cell_type": "code",
   "execution_count": null,
   "metadata": {
    "collapsed": true
   },
   "outputs": [],
   "source": []
  }
 ],
 "metadata": {
  "kernelspec": {
   "display_name": "Python 3",
   "language": "python",
   "name": "python3"
  },
  "language_info": {
   "codemirror_mode": {
    "name": "ipython",
    "version": 3
   },
   "file_extension": ".py",
   "mimetype": "text/x-python",
   "name": "python",
   "nbconvert_exporter": "python",
   "pygments_lexer": "ipython3",
   "version": "3.6.2"
  }
 },
 "nbformat": 4,
 "nbformat_minor": 2
}
