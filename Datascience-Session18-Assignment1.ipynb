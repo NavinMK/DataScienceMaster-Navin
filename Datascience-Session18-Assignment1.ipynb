{
 "cells": [
  {
   "cell_type": "code",
   "execution_count": 32,
   "metadata": {},
   "outputs": [
    {
     "name": "stdout",
     "output_type": "stream",
     "text": [
      "dof=3\n",
      "probability=0.950, critical=7.815, stat=8.006\n",
      "Dependent (reject H0)\n",
      "Since 8.006 > 7.815, therefore we reject the null hypothesis and conclude that the education level depends on gender at a 5% level of significance.\n"
     ]
    }
   ],
   "source": [
    "#Problem Statement 1:Is gender independent of education level? A random sample of 395 people were\n",
    "#surveyed and each person was asked to report the highest education level they\n",
    "#obtained. The data that resulted from the survey is summarized in the following table:\n",
    "#Are gender and education level dependent at 5% level of significance? In\n",
    "#other words, given the data collected above, is there a relationship between the gender\n",
    "#of an individual and the level of education that they have obtained?\n",
    "import pandas as pd\n",
    "import numpy as np\n",
    "import scipy.stats as stat\n",
    "from scipy.stats import chisquare\n",
    "from scipy.stats import chi2_contingency\n",
    "obs = [[60,54,46,41], [ 40 ,44 ,53, 57]]\n",
    "stat, p, dof, expected = chi2_contingency(obs)\n",
    "print('dof=%d' % dof)\n",
    "prob = 0.95\n",
    "critical = chi2.ppf(prob, dof)\n",
    "print('probability=%.3f, critical=%.3f, stat=%.3f' % (prob, critical, stat))\n",
    "if abs(stat) >= critical:\n",
    "    print('Dependent (reject H0)')\n",
    "else:\n",
    "    print('Independent (fail to reject H0)')\n",
    "print(\"Since 8.006 > 7.815, therefore we reject the null hypothesis and conclude that the education level depends on gender at a 5% level of significance.\") \n",
    "\n"
   ]
  },
  {
   "cell_type": "code",
   "execution_count": 6,
   "metadata": {},
   "outputs": [
    {
     "name": "stdout",
     "output_type": "stream",
     "text": [
      "F_onewayResult(statistic=9.7472055030094626, pvalue=0.0030597541434430556)\n",
      "APA Writeup: An analysis of varience showed that the difference between groups was significant. F(2, 12)=9.75, p <0.05, η2=0.62\n"
     ]
    }
   ],
   "source": [
    "#Using the following data, perform a oneway analysis of variance using α=.05. Write up\n",
    "#the results in APA format.\n",
    "#[Group1: 51, 45, 33, 45, 67]\n",
    "#[Group2: 23, 43, 23, 43, 45]\n",
    "#[Group3: 56, 76, 74, 87, 56]\n",
    "print(stat.f_oneway([51, 45, 33, 45, 67],[23, 43, 23, 43, 45],[56, 76, 74, 87, 56]))\n",
    "#APA writeup\n",
    "print(\"APA Writeup: An analysis of varience showed that the difference between groups was significant. F(2, 12)=9.75, p <0.05, η2=0.62\")\n",
    "\n",
    "\n"
   ]
  },
  {
   "cell_type": "code",
   "execution_count": 36,
   "metadata": {},
   "outputs": [
    {
     "name": "stdout",
     "output_type": "stream",
     "text": [
      "4.0\n"
     ]
    }
   ],
   "source": [
    "#Problem Statement 3:Calculate F Test for given 10, 20, 30, 40, 50 and 5,10,15, 20, 25.\n",
    "#For 10, 20, 30, 40, 50:\n",
    "var1=[10,20,30,40,50]\n",
    "var2=[5,10,15,20,25]\n",
    "f = np.var(var1) /np.var(var2)\n",
    "print(f)\n"
   ]
  },
  {
   "cell_type": "code",
   "execution_count": null,
   "metadata": {},
   "outputs": [],
   "source": []
  },
  {
   "cell_type": "code",
   "execution_count": null,
   "metadata": {
    "collapsed": true
   },
   "outputs": [],
   "source": []
  }
 ],
 "metadata": {
  "kernelspec": {
   "display_name": "Python 3",
   "language": "python",
   "name": "python3"
  },
  "language_info": {
   "codemirror_mode": {
    "name": "ipython",
    "version": 3
   },
   "file_extension": ".py",
   "mimetype": "text/x-python",
   "name": "python",
   "nbconvert_exporter": "python",
   "pygments_lexer": "ipython3",
   "version": "3.6.2"
  }
 },
 "nbformat": 4,
 "nbformat_minor": 2
}
