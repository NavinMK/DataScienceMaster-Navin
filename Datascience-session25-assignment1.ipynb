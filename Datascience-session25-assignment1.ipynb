{
 "cells": [
  {
   "cell_type": "code",
   "execution_count": 60,
   "metadata": {
    "collapsed": true
   },
   "outputs": [],
   "source": [
    "import numpy as np\n",
    "import pandas as pd\n",
    "\n",
    "train_set = pd.read_csv('http://archive.ics.uci.edu/ml/machine-learning-databases/adult/adult.data', header = None)\n",
    "\n",
    "test_set = pd.read_csv('http://archive.ics.uci.edu/ml/machine-learning-databases/adult/adult.test', skiprows = 1, header = None)\n",
    "col_labels = ['age', 'workclass', 'fnlwgt', 'education', 'education_num', 'marital_status','occupation','relationship', 'race', 'sex', 'capital_gain', 'capital_loss', 'hours_per_week','native_country', 'wage_class']\n",
    "train_set.columns = col_labels\n",
    "test_set.columns = col_labels\n"
   ]
  },
  {
   "cell_type": "code",
   "execution_count": 61,
   "metadata": {},
   "outputs": [],
   "source": [
    "#train_set.info()\n",
    "marital_status_dummies = pd.get_dummies(train_set.marital_status, prefix='marital_status').iloc[:, 1:]\n",
    "train_set = pd.concat([train_set, marital_status_dummies], axis=1)\n",
    "workclass_dummies = pd.get_dummies(train_set.workclass, prefix='workclass').iloc[:, 1:]\n",
    "train_set = pd.concat([train_set, workclass_dummies], axis=1)\n",
    "occupation_dummies = pd.get_dummies(train_set.occupation, prefix='occupation').iloc[:, 1:]\n",
    "train_set = pd.concat([train_set, occupation_dummies], axis=1)\n",
    "education_dummies = pd.get_dummies(train_set.education, prefix='education').iloc[:, 1:]\n",
    "train_set = pd.concat([train_set, education_dummies], axis=1)\n",
    "relationship_dummies = pd.get_dummies(train_set.relationship, prefix='relationship').iloc[:, 1:]\n",
    "train_set = pd.concat([train_set, relationship_dummies], axis=1)\n",
    "race_dummies = pd.get_dummies(train_set.race, prefix='race').iloc[:, 1:]\n",
    "train_set = pd.concat([train_set, race_dummies], axis=1)\n",
    "sex_dummies = pd.get_dummies(train_set.sex, prefix='sex').iloc[:, 1:]\n",
    "train_set = pd.concat([train_set, sex_dummies], axis=1)\n",
    "wage_class_dummies = pd.get_dummies(train_set.wage_class, prefix='wage_class').iloc[:, 1:]\n",
    "train_set = pd.concat([train_set, wage_class_dummies], axis=1)\n",
    "train_set.drop(['marital_status','workclass','occupation','education','relationship','race','sex','native_country','wage_class'],axis=1,inplace=True)\n",
    "\n"
   ]
  },
  {
   "cell_type": "code",
   "execution_count": 62,
   "metadata": {},
   "outputs": [],
   "source": [
    "marital_status_dummies = pd.get_dummies(test_set.marital_status, prefix='marital_status').iloc[:, 1:]\n",
    "test_set = pd.concat([test_set, marital_status_dummies], axis=1)\n",
    "workclass_dummies = pd.get_dummies(test_set.workclass, prefix='workclass').iloc[:, 1:]\n",
    "test_set = pd.concat([test_set, workclass_dummies], axis=1)\n",
    "occupation_dummies = pd.get_dummies(test_set.occupation, prefix='occupation').iloc[:, 1:]\n",
    "test_set = pd.concat([test_set, occupation_dummies], axis=1)\n",
    "education_dummies = pd.get_dummies(test_set.education, prefix='education').iloc[:, 1:]\n",
    "test_set = pd.concat([test_set, education_dummies], axis=1)\n",
    "relationship_dummies = pd.get_dummies(test_set.relationship, prefix='relationship').iloc[:, 1:]\n",
    "test_set = pd.concat([test_set, relationship_dummies], axis=1)\n",
    "race_dummies = pd.get_dummies(test_set.race, prefix='race').iloc[:, 1:]\n",
    "test_set = pd.concat([test_set, race_dummies], axis=1)\n",
    "sex_dummies = pd.get_dummies(test_set.sex, prefix='sex').iloc[:, 1:]\n",
    "test_set = pd.concat([test_set, sex_dummies], axis=1)\n",
    "wage_class_dummies = pd.get_dummies(test_set.wage_class, prefix='wage_class').iloc[:, 1:]\n",
    "test_set = pd.concat([test_set, wage_class_dummies], axis=1)\n",
    "test_set.drop(['marital_status','workclass','occupation','education','relationship','race','sex','native_country','wage_class'],axis=1,inplace=True)\n"
   ]
  },
  {
   "cell_type": "code",
   "execution_count": 63,
   "metadata": {},
   "outputs": [],
   "source": [
    "from sklearn.datasets import load_svmlight_files\n",
    "from sklearn.metrics import accuracy_score\n",
    "import xgboost as xgb\n",
    "from xgboost.sklearn import XGBClassifier\n",
    "from sklearn.model_selection import train_test_split\n",
    "from sklearn.metrics import mean_squared_error\n",
    "\n",
    "y_train = train_set[\"wage_class_ >50K\"]\n",
    "train_set.drop([\"wage_class_ >50K\"],axis=1,inplace=True)\n",
    "X_train = train_set\n",
    "\n"
   ]
  },
  {
   "cell_type": "code",
   "execution_count": 65,
   "metadata": {},
   "outputs": [],
   "source": [
    "params = {\n",
    "    'objective': 'binary:logistic',\n",
    "    'max_depth': 2,\n",
    "    'learning_rate': 1.0,\n",
    "    'silent': 1.0,\n",
    "    'n_estimators': 5\n",
    "}\n",
    "bst = XGBClassifier(**params).fit(X_train, y_train)"
   ]
  },
  {
   "cell_type": "code",
   "execution_count": 66,
   "metadata": {},
   "outputs": [
    {
     "data": {
      "text/plain": [
       "array([0, 0, 0, ..., 1, 0, 1], dtype=uint8)"
      ]
     },
     "execution_count": 66,
     "metadata": {},
     "output_type": "execute_result"
    }
   ],
   "source": [
    "y_test = test_set[\"wage_class_ >50K.\"]\n",
    "test_set.drop([\"wage_class_ >50K.\"],axis=1,inplace=True)\n",
    "X_test = test_set\n",
    "preds = bst.predict(X_test)\n",
    "preds"
   ]
  },
  {
   "cell_type": "code",
   "execution_count": 67,
   "metadata": {},
   "outputs": [
    {
     "name": "stdout",
     "output_type": "stream",
     "text": [
      "Predicted correctly: 13839/16281\n",
      "Error: 0.1500\n"
     ]
    }
   ],
   "source": [
    "correct = 0\n",
    "\n",
    "for i in range(len(preds)):\n",
    "    if (y_test[i] == preds[i]):\n",
    "        correct += 1\n",
    "        \n",
    "acc = accuracy_score(y_test, preds)\n",
    "\n",
    "print('Predicted correctly: {0}/{1}'.format(correct, len(preds)))\n",
    "print('Error: {0:.4f}'.format(1-acc))"
   ]
  },
  {
   "cell_type": "code",
   "execution_count": null,
   "metadata": {
    "collapsed": true
   },
   "outputs": [],
   "source": []
  }
 ],
 "metadata": {
  "kernelspec": {
   "display_name": "Python 3",
   "language": "python",
   "name": "python3"
  },
  "language_info": {
   "codemirror_mode": {
    "name": "ipython",
    "version": 3
   },
   "file_extension": ".py",
   "mimetype": "text/x-python",
   "name": "python",
   "nbconvert_exporter": "python",
   "pygments_lexer": "ipython3",
   "version": "3.6.2"
  }
 },
 "nbformat": 4,
 "nbformat_minor": 2
}
