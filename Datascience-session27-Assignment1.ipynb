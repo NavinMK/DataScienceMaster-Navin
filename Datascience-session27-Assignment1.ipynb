{
 "cells": [
  {
   "cell_type": "code",
   "execution_count": 1,
   "metadata": {
    "collapsed": true
   },
   "outputs": [],
   "source": [
    "import pandas\n",
    "\n",
    "with open(\"nba_2013.csv\", 'r') as csvfile:\n",
    "    nba = pandas.read_csv(csvfile)"
   ]
  },
  {
   "cell_type": "code",
   "execution_count": 2,
   "metadata": {},
   "outputs": [
    {
     "name": "stdout",
     "output_type": "stream",
     "text": [
      "<class 'pandas.core.frame.DataFrame'>\n",
      "RangeIndex: 481 entries, 0 to 480\n",
      "Data columns (total 31 columns):\n",
      "player          481 non-null object\n",
      "pos             481 non-null object\n",
      "age             481 non-null int64\n",
      "bref_team_id    481 non-null object\n",
      "g               481 non-null int64\n",
      "gs              481 non-null int64\n",
      "mp              481 non-null int64\n",
      "fg              481 non-null int64\n",
      "fga             481 non-null int64\n",
      "fg.             479 non-null float64\n",
      "x3p             481 non-null int64\n",
      "x3pa            481 non-null int64\n",
      "x3p.            414 non-null float64\n",
      "x2p             481 non-null int64\n",
      "x2pa            481 non-null int64\n",
      "x2p.            478 non-null float64\n",
      "efg.            479 non-null float64\n",
      "ft              481 non-null int64\n",
      "fta             481 non-null int64\n",
      "ft.             461 non-null float64\n",
      "orb             481 non-null int64\n",
      "drb             481 non-null int64\n",
      "trb             481 non-null int64\n",
      "ast             481 non-null int64\n",
      "stl             481 non-null int64\n",
      "blk             481 non-null int64\n",
      "tov             481 non-null int64\n",
      "pf              481 non-null int64\n",
      "pts             481 non-null int64\n",
      "season          481 non-null object\n",
      "season_end      481 non-null int64\n",
      "dtypes: float64(5), int64(22), object(4)\n",
      "memory usage: 116.6+ KB\n"
     ]
    }
   ],
   "source": [
    "nba.info()"
   ]
  },
  {
   "cell_type": "code",
   "execution_count": 3,
   "metadata": {
    "collapsed": true
   },
   "outputs": [],
   "source": [
    "y = nba[\"pts\"]\n",
    "nba.drop([\"player\",\"pos\",\"pts\",\"season\",\"bref_team_id\"],axis=1,inplace=True)\n"
   ]
  },
  {
   "cell_type": "code",
   "execution_count": 4,
   "metadata": {},
   "outputs": [
    {
     "data": {
      "text/html": [
       "<div>\n",
       "<style>\n",
       "    .dataframe thead tr:only-child th {\n",
       "        text-align: right;\n",
       "    }\n",
       "\n",
       "    .dataframe thead th {\n",
       "        text-align: left;\n",
       "    }\n",
       "\n",
       "    .dataframe tbody tr th {\n",
       "        vertical-align: top;\n",
       "    }\n",
       "</style>\n",
       "<table border=\"1\" class=\"dataframe\">\n",
       "  <thead>\n",
       "    <tr style=\"text-align: right;\">\n",
       "      <th></th>\n",
       "      <th>age</th>\n",
       "      <th>g</th>\n",
       "      <th>gs</th>\n",
       "      <th>mp</th>\n",
       "      <th>fg</th>\n",
       "      <th>fga</th>\n",
       "      <th>fg.</th>\n",
       "      <th>x3p</th>\n",
       "      <th>x3pa</th>\n",
       "      <th>x3p.</th>\n",
       "      <th>...</th>\n",
       "      <th>ft.</th>\n",
       "      <th>orb</th>\n",
       "      <th>drb</th>\n",
       "      <th>trb</th>\n",
       "      <th>ast</th>\n",
       "      <th>stl</th>\n",
       "      <th>blk</th>\n",
       "      <th>tov</th>\n",
       "      <th>pf</th>\n",
       "      <th>season_end</th>\n",
       "    </tr>\n",
       "  </thead>\n",
       "  <tbody>\n",
       "    <tr>\n",
       "      <th>0</th>\n",
       "      <td>23</td>\n",
       "      <td>63</td>\n",
       "      <td>0</td>\n",
       "      <td>847</td>\n",
       "      <td>66</td>\n",
       "      <td>141</td>\n",
       "      <td>0.468</td>\n",
       "      <td>4</td>\n",
       "      <td>15</td>\n",
       "      <td>0.266667</td>\n",
       "      <td>...</td>\n",
       "      <td>0.660</td>\n",
       "      <td>72</td>\n",
       "      <td>144</td>\n",
       "      <td>216</td>\n",
       "      <td>28</td>\n",
       "      <td>23</td>\n",
       "      <td>26</td>\n",
       "      <td>30</td>\n",
       "      <td>122</td>\n",
       "      <td>2013</td>\n",
       "    </tr>\n",
       "    <tr>\n",
       "      <th>1</th>\n",
       "      <td>20</td>\n",
       "      <td>81</td>\n",
       "      <td>20</td>\n",
       "      <td>1197</td>\n",
       "      <td>93</td>\n",
       "      <td>185</td>\n",
       "      <td>0.503</td>\n",
       "      <td>0</td>\n",
       "      <td>0</td>\n",
       "      <td>NaN</td>\n",
       "      <td>...</td>\n",
       "      <td>0.581</td>\n",
       "      <td>142</td>\n",
       "      <td>190</td>\n",
       "      <td>332</td>\n",
       "      <td>43</td>\n",
       "      <td>40</td>\n",
       "      <td>57</td>\n",
       "      <td>71</td>\n",
       "      <td>203</td>\n",
       "      <td>2013</td>\n",
       "    </tr>\n",
       "    <tr>\n",
       "      <th>2</th>\n",
       "      <td>27</td>\n",
       "      <td>53</td>\n",
       "      <td>12</td>\n",
       "      <td>961</td>\n",
       "      <td>143</td>\n",
       "      <td>275</td>\n",
       "      <td>0.520</td>\n",
       "      <td>0</td>\n",
       "      <td>0</td>\n",
       "      <td>NaN</td>\n",
       "      <td>...</td>\n",
       "      <td>0.639</td>\n",
       "      <td>102</td>\n",
       "      <td>204</td>\n",
       "      <td>306</td>\n",
       "      <td>38</td>\n",
       "      <td>24</td>\n",
       "      <td>36</td>\n",
       "      <td>39</td>\n",
       "      <td>108</td>\n",
       "      <td>2013</td>\n",
       "    </tr>\n",
       "    <tr>\n",
       "      <th>3</th>\n",
       "      <td>28</td>\n",
       "      <td>73</td>\n",
       "      <td>73</td>\n",
       "      <td>2552</td>\n",
       "      <td>464</td>\n",
       "      <td>1011</td>\n",
       "      <td>0.459</td>\n",
       "      <td>128</td>\n",
       "      <td>300</td>\n",
       "      <td>0.426667</td>\n",
       "      <td>...</td>\n",
       "      <td>0.815</td>\n",
       "      <td>32</td>\n",
       "      <td>230</td>\n",
       "      <td>262</td>\n",
       "      <td>248</td>\n",
       "      <td>35</td>\n",
       "      <td>3</td>\n",
       "      <td>146</td>\n",
       "      <td>136</td>\n",
       "      <td>2013</td>\n",
       "    </tr>\n",
       "    <tr>\n",
       "      <th>4</th>\n",
       "      <td>25</td>\n",
       "      <td>56</td>\n",
       "      <td>30</td>\n",
       "      <td>951</td>\n",
       "      <td>136</td>\n",
       "      <td>249</td>\n",
       "      <td>0.546</td>\n",
       "      <td>0</td>\n",
       "      <td>1</td>\n",
       "      <td>0.000000</td>\n",
       "      <td>...</td>\n",
       "      <td>0.836</td>\n",
       "      <td>94</td>\n",
       "      <td>183</td>\n",
       "      <td>277</td>\n",
       "      <td>40</td>\n",
       "      <td>23</td>\n",
       "      <td>46</td>\n",
       "      <td>63</td>\n",
       "      <td>187</td>\n",
       "      <td>2013</td>\n",
       "    </tr>\n",
       "  </tbody>\n",
       "</table>\n",
       "<p>5 rows × 26 columns</p>\n",
       "</div>"
      ],
      "text/plain": [
       "   age   g  gs    mp   fg   fga    fg.  x3p  x3pa      x3p.     ...      \\\n",
       "0   23  63   0   847   66   141  0.468    4    15  0.266667     ...       \n",
       "1   20  81  20  1197   93   185  0.503    0     0       NaN     ...       \n",
       "2   27  53  12   961  143   275  0.520    0     0       NaN     ...       \n",
       "3   28  73  73  2552  464  1011  0.459  128   300  0.426667     ...       \n",
       "4   25  56  30   951  136   249  0.546    0     1  0.000000     ...       \n",
       "\n",
       "     ft.  orb  drb  trb  ast  stl  blk  tov   pf  season_end  \n",
       "0  0.660   72  144  216   28   23   26   30  122        2013  \n",
       "1  0.581  142  190  332   43   40   57   71  203        2013  \n",
       "2  0.639  102  204  306   38   24   36   39  108        2013  \n",
       "3  0.815   32  230  262  248   35    3  146  136        2013  \n",
       "4  0.836   94  183  277   40   23   46   63  187        2013  \n",
       "\n",
       "[5 rows x 26 columns]"
      ]
     },
     "execution_count": 4,
     "metadata": {},
     "output_type": "execute_result"
    }
   ],
   "source": [
    "X=nba\n",
    "X.head()\n"
   ]
  },
  {
   "cell_type": "code",
   "execution_count": 6,
   "metadata": {},
   "outputs": [
    {
     "data": {
      "image/png": "[encoded data removed]",
      "text/plain": [
       "<matplotlib.figure.Figure at 0x28f2e79cb70>"
      ]
     },
     "metadata": {},
     "output_type": "display_data"
    }
   ],
   "source": [
    "plt.figure(figsize=(10,8))\n",
    "sns.heatmap(nba.corr())\n",
    "plt.title(\"corelation of Data\")\n",
    "plt.show()"
   ]
  },
  {
   "cell_type": "code",
   "execution_count": 7,
   "metadata": {},
   "outputs": [
    {
     "name": "stderr",
     "output_type": "stream",
     "text": [
      "C:\\Anaconda3\\lib\\site-packages\\sklearn\\cross_validation.py:41: DeprecationWarning: This module was deprecated in version 0.18 in favor of the model_selection module into which all the refactored classes and functions are moved. Also note that the interface of the new CV iterators are different from that of this module. This module will be removed in 0.20.\n",
      "  \"This module will be removed in 0.20.\", DeprecationWarning)\n"
     ]
    }
   ],
   "source": [
    "from sklearn.cross_validation import train_test_split\n",
    "from sklearn.neighbors import KNeighborsClassifier\n",
    "from sklearn.metrics import accuracy_score\n",
    "from sklearn.preprocessing import Imputer\n",
    "imp = Imputer(missing_values=\"NaN\", strategy='median', axis=0)\n",
    "X = imp.fit_transform(X)\n",
    "X_train, X_test, y_train, y_test = train_test_split( X, y, test_size = 0.3, random_state = 100)\n",
    "y_train = y_train.ravel()\n",
    "y_test = y_test.ravel()"
   ]
  },
  {
   "cell_type": "code",
   "execution_count": 10,
   "metadata": {},
   "outputs": [
    {
     "data": {
      "text/plain": [
       "array([ 383,  490,  181,  159,    6,  181,   76,   76,    0,    6,   76,\n",
       "         74,   65,    6,  490,  791,  350,  383,  490,  403,   76, 1417,\n",
       "        859,  890,    0,  298,  890,    0,  202,  181,  666,  339,  211,\n",
       "        760,  202,  490,  810,   22,   65,  480,  298,  181,  666,  144,\n",
       "         76,  404,   65,  791,    6,  298,  871, 1417,  791,  403,  480,\n",
       "       1417,  890,    0,  383,  572,  401,   76,  403,  781,  132,  890,\n",
       "        810,  810,  781,  404,    7,  810,  404,    7,  144, 1417,  490,\n",
       "        810,    0,    0,  202,   65,  144,   65,  666,  298,  419,  383,\n",
       "        132,   76,  810,   79,  871,  171,  871,  202,  202, 1417,  810,\n",
       "          6,  213,  213,  404, 1053,  132,  490,  810,   74,  878,  181,\n",
       "        961,    6,  810,  401,  339,    7,  383,  490,    0,  211,  404,\n",
       "        490,  339,    6, 1042,  171,  448,  781,  490,  890,  810,  144,\n",
       "        211,  250,   74,   22,  890,  810,  404,  490,  890,    0,  339,\n",
       "        383,   65], dtype=int64)"
      ]
     },
     "execution_count": 10,
     "metadata": {},
     "output_type": "execute_result"
    }
   ],
   "source": [
    "for K in range(25):\n",
    "    K_value = K+1\n",
    "    neigh = KNeighborsClassifier(n_neighbors = K_value, weights='uniform', algorithm='auto')\n",
    "    neigh.fit(X_train, y_train) \n",
    "    y_pred = neigh.predict(X_test)    \n",
    "y_pred"
   ]
  },
  {
   "cell_type": "code",
   "execution_count": null,
   "metadata": {
    "collapsed": true
   },
   "outputs": [],
   "source": []
  }
 ],
 "metadata": {
  "kernelspec": {
   "display_name": "Python 3",
   "language": "python",
   "name": "python3"
  },
  "language_info": {
   "codemirror_mode": {
    "name": "ipython",
    "version": 3
   },
   "file_extension": ".py",
   "mimetype": "text/x-python",
   "name": "python",
   "nbconvert_exporter": "python",
   "pygments_lexer": "ipython3",
   "version": "3.6.2"
  }
 },
 "nbformat": 4,
 "nbformat_minor": 2
}
