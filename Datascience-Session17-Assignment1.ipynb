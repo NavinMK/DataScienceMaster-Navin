{
 "cells": [
  {
   "cell_type": "code",
   "execution_count": 26,
   "metadata": {},
   "outputs": [
    {
     "name": "stdout",
     "output_type": "stream",
     "text": [
      "3.2\n"
     ]
    }
   ],
   "source": [
    "#Problem Statement 1:Blood glucose levels for obese patients have a mean of 100 with a standard deviation of\n",
    "#15. A researcher thinks that a diet high in raw cornstarch will have a positive effect on\n",
    "#blood glucose levels. A sample of 36 patients who have tried the raw cornstarch diet\n",
    "#have a mean glucose level of 108. Test the hypothesis that the raw cornstarch had an\n",
    "#effect or not.\n",
    "import math\n",
    "n=36\n",
    "z=(108-100)/(15/math.sqrt(n))\n",
    "print(z)\n",
    "#The P-value associated with the Z-value of 3.2 is 0.9993. This means that the probability of having a value less \n",
    "#than 108 is 0.9993, while the probability of having a value equal to (or more than) 108 is (1-0.9993),\n",
    "#which is equal to 0.0007.\n",
    "#As the computed value of 0.0007 is less than the significance level of 0.05, the Null hypothesis test to determine \n",
    "#the raw corn-starch effect can be rejected."
   ]
  },
  {
   "cell_type": "code",
   "execution_count": 54,
   "metadata": {},
   "outputs": [
    {
     "name": "stdout",
     "output_type": "stream",
     "text": [
      "Mean: 0.050000000000000044\n",
      "Std dev: 0.07065408693062278\n",
      "Zscore: -0.7076731463403729\n",
      "Therefore, the probability that the survey will show a greater percentage of Republican voters in the second state than in the first state is 0.24.\n"
     ]
    }
   ],
   "source": [
    "#Problem Statement 2:\n",
    "#In one state, 52% of the voters are Republicans, and 48% are Democrats. In a second #state, 47% of the voters are Republicans,\n",
    "#and 53% are Democrats. Suppose a simple random sample of 100 voters are surveyed from each state.\n",
    "#What is the probability that the survey will show a greater percentage of Republican voters in the second state than \n",
    "#in the first state?\n",
    "import numpy as np\n",
    "P1=0.52\n",
    "P2= 0.47\n",
    "x=0\n",
    "mean_p1p2 = (P1 - P2)\n",
    "print(\"Mean:\",mean_p1p2)\n",
    "n1=100\n",
    "n2=100\n",
    "#Find the standard deviation of the difference.\n",
    "σd =  math.sqrt((P1*(1 - P1)/n1)+(P1*(1 - P1)/n1))\n",
    "print(\"Std dev:\",σd)\n",
    "z_p1p2 = (x - mean_p1p2 ) / σd \n",
    "print(\"Zscore:\",z_p1p2)\n",
    "#Using zscore  Calculator, we find that the probability of a z-score being -0.7077 or less is 0.24.\n",
    "print(\"Therefore, the probability that the survey will show a greater percentage of Republican voters in the second state than in the first state is 0.24.\")\n",
    "\n",
    "\n"
   ]
  },
  {
   "cell_type": "code",
   "execution_count": 24,
   "metadata": {},
   "outputs": [
    {
     "name": "stdout",
     "output_type": "stream",
     "text": [
      "0.35406698564593303\n",
      " This means that your score was .354 std devs above the mean compared to average SAT Test taker\n"
     ]
    }
   ],
   "source": [
    "#Problem Statement 3:\n",
    "#You take the SAT and score 1100. The mean score for the SAT is 1026 and the standard\n",
    "#deviation is 209. How well did you score on the test compared to the average test taker?\n",
    "z=(1100-1026)/209\n",
    "print(z)\n",
    "print(\" This means that your score was .354 std devs above the mean compared to average SAT Test taker\")\n"
   ]
  },
  {
   "cell_type": "code",
   "execution_count": null,
   "metadata": {
    "collapsed": true
   },
   "outputs": [],
   "source": []
  }
 ],
 "metadata": {
  "kernelspec": {
   "display_name": "Python 3",
   "language": "python",
   "name": "python3"
  }
 },
 "nbformat": 4,
 "nbformat_minor": 2
}
