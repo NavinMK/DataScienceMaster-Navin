{
 "cells": [
  {
   "cell_type": "code",
   "execution_count": 444,
   "metadata": {},
   "outputs": [
    {
     "data": {
      "text/html": [
       "<div>\n",
       "<style>\n",
       "    .dataframe thead tr:only-child th {\n",
       "        text-align: right;\n",
       "    }\n",
       "\n",
       "    .dataframe thead th {\n",
       "        text-align: left;\n",
       "    }\n",
       "\n",
       "    .dataframe tbody tr th {\n",
       "        vertical-align: top;\n",
       "    }\n",
       "</style>\n",
       "<table border=\"1\" class=\"dataframe\">\n",
       "  <thead>\n",
       "    <tr style=\"text-align: right;\">\n",
       "      <th></th>\n",
       "      <th>X</th>\n",
       "      <th>Y</th>\n",
       "    </tr>\n",
       "  </thead>\n",
       "  <tbody>\n",
       "    <tr>\n",
       "      <th>0</th>\n",
       "      <td>7</td>\n",
       "      <td>0</td>\n",
       "    </tr>\n",
       "    <tr>\n",
       "      <th>1</th>\n",
       "      <td>2</td>\n",
       "      <td>1</td>\n",
       "    </tr>\n",
       "    <tr>\n",
       "      <th>2</th>\n",
       "      <td>0</td>\n",
       "      <td>0</td>\n",
       "    </tr>\n",
       "    <tr>\n",
       "      <th>3</th>\n",
       "      <td>3</td>\n",
       "      <td>1</td>\n",
       "    </tr>\n",
       "    <tr>\n",
       "      <th>4</th>\n",
       "      <td>4</td>\n",
       "      <td>2</td>\n",
       "    </tr>\n",
       "    <tr>\n",
       "      <th>5</th>\n",
       "      <td>2</td>\n",
       "      <td>3</td>\n",
       "    </tr>\n",
       "    <tr>\n",
       "      <th>6</th>\n",
       "      <td>5</td>\n",
       "      <td>4</td>\n",
       "    </tr>\n",
       "    <tr>\n",
       "      <th>7</th>\n",
       "      <td>0</td>\n",
       "      <td>0</td>\n",
       "    </tr>\n",
       "    <tr>\n",
       "      <th>8</th>\n",
       "      <td>3</td>\n",
       "      <td>1</td>\n",
       "    </tr>\n",
       "    <tr>\n",
       "      <th>9</th>\n",
       "      <td>4</td>\n",
       "      <td>2</td>\n",
       "    </tr>\n",
       "  </tbody>\n",
       "</table>\n",
       "</div>"
      ],
      "text/plain": [
       "   X  Y\n",
       "0  7  0\n",
       "1  2  1\n",
       "2  0  0\n",
       "3  3  1\n",
       "4  4  2\n",
       "5  2  3\n",
       "6  5  4\n",
       "7  0  0\n",
       "8  3  1\n",
       "9  4  2"
      ]
     },
     "execution_count": 444,
     "metadata": {},
     "output_type": "execute_result"
    }
   ],
   "source": [
    "#How-to-count-distance-to-the-previous-zero\n",
    "import pandas as pd\n",
    "df = pd.DataFrame({'X':[7,2,0, 3, 4, 2, 5, 0, 3, 4]})\n",
    "prevzeroindex=0\n",
    "listOutput=[]\n",
    "for index, row in df.iterrows():\n",
    "    if row['X'] == 0:\n",
    "        prevzeroindex =index\n",
    "    if prevzeroindex ==0:\n",
    "        outputvalue = index\n",
    "    else:\n",
    "        outputvalue = index - prevzeroindex\n",
    "    listOutput.append(outputvalue)\n",
    "df[\"Y\"] = listOutput\n",
    "df\n",
    "        "
   ]
  },
  {
   "cell_type": "code",
   "execution_count": 543,
   "metadata": {},
   "outputs": [],
   "source": [
    "#Create a DatetimeIndex that contains each business day of 2015 and use it to index a Series of random numbers.\n",
    "import numpy as np\n",
    "indexbday = pd.DatetimeIndex(start='2015-01-01',end='2015-12-31', freq='B')\n",
    "s = pd.Series(random.sample(range(261), 261), index=indexbday)\n",
    "s\n"
   ]
  },
  {
   "cell_type": "code",
   "execution_count": 545,
   "metadata": {},
   "outputs": [
    {
     "data": {
      "text/plain": [
       "7366"
      ]
     },
     "execution_count": 545,
     "metadata": {},
     "output_type": "execute_result"
    }
   ],
   "source": [
    "#Find the sum of the values in s for every Wednesday\n",
    "s.iloc[s.index.dayofweek==2].sum()"
   ]
  },
  {
   "cell_type": "code",
   "execution_count": 553,
   "metadata": {},
   "outputs": [
    {
     "data": {
      "text/plain": [
       "2015-01    125.318182\n",
       "2015-02    140.750000\n",
       "2015-03    138.454545\n",
       "2015-04    128.409091\n",
       "2015-05    119.380952\n",
       "2015-06    120.818182\n",
       "2015-07    136.608696\n",
       "2015-08    150.142857\n",
       "2015-09    121.272727\n",
       "2015-10    125.409091\n",
       "2015-11    112.047619\n",
       "2015-12    141.173913\n",
       "Freq: M, dtype: float64"
      ]
     },
     "execution_count": 553,
     "metadata": {},
     "output_type": "execute_result"
    }
   ],
   "source": [
    "#Average for each calander month\n",
    "s.groupby(s.index.to_period(\"M\")).mean()\n"
   ]
  },
  {
   "cell_type": "code",
   "execution_count": 540,
   "metadata": {},
   "outputs": [
    {
     "name": "stdout",
     "output_type": "stream",
     "text": [
      "Date where Max Occur for 1st 4 months : ['2015-04-09']\n",
      "Date where Max Occur for 2nd 4 months : ['2015-06-08']\n",
      "Date where Max Occur for 3rd 4 months : ['2015-10-08']\n"
     ]
    }
   ],
   "source": [
    "#For each group of four consecutive calendar months in s, find the date on which the highest value occurred.\n",
    "#s.groupby(s.index.to_period(\"Q\")).max()\n",
    "print(\"Date where Max Occur for 1st 4 months :\" ,s[s==(s.loc['2015-01-01':'2015-04-30'].max())].index.strftime(\"%Y-%m-%d\"))\n",
    "print(\"Date where Max Occur for 2nd 4 months :\" ,s[s==(s.loc['2015-05-01':'2015-08-31'].max())].index.strftime(\"%Y-%m-%d\"))\n",
    "print(\"Date where Max Occur for 3rd 4 months :\" ,s[s==(s.loc['2015-09-01':'2015-12-31'].max())].index.strftime(\"%Y-%m-%d\"))\n"
   ]
  },
  {
   "cell_type": "code",
   "execution_count": null,
   "metadata": {
    "collapsed": true
   },
   "outputs": [],
   "source": []
  },
  {
   "cell_type": "code",
   "execution_count": null,
   "metadata": {
    "collapsed": true
   },
   "outputs": [],
   "source": []
  }
 ],
 "metadata": {
  "kernelspec": {
   "display_name": "Python 3",
   "language": "python",
   "name": "python3"
  },
  "language_info": {
   "codemirror_mode": {
    "name": "ipython",
    "version": 3
   },
   "file_extension": ".py",
   "mimetype": "text/x-python",
   "name": "python",
   "nbconvert_exporter": "python",
   "pygments_lexer": "ipython3",
   "version": "3.6.2"
  }
 },
 "nbformat": 4,
 "nbformat_minor": 2
}
