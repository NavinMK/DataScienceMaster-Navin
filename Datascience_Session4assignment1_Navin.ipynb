{
 "cells": [
  {
   "cell_type": "code",
   "execution_count": 25,
   "metadata": {},
   "outputs": [
    {
     "name": "stdout",
     "output_type": "stream",
     "text": [
      "6.0 3\n",
      "6.0\n"
     ]
    }
   ],
   "source": [
    "#Python to find the area of the traingle using area=(s*(s-a)*(s-b)*(s-c))**0.5\n",
    "class Traingle:\n",
    "    def __init__(self,sidea,sideb,sidec):\n",
    "        self.sidea=sidea\n",
    "        self.sideb=sideb\n",
    "        self.sidec=sidec\n",
    "class AreaTraingle(Traingle):\n",
    "    def __init__(self,sidea,sideb,sidec):\n",
    "        Traingle.__init__(self,sidea,sideb,sidec)\n",
    "        self.s=((self.sidea+self.sideb+self.sidec)/2)\n",
    "    def area(self):\n",
    "        print(self.s,self.sidea)\n",
    "        area = (self.s*(self.s-self.sidea)*(self.s-self.sideb)*(self.s-self.sidec))**0.5\n",
    "        return area\n",
    "tr1=Traingle(1,2,4)\n",
    "at1 = AreaTraingle(3,4,5)\n",
    "print(at1.area())\n",
    "\n",
    "\n",
    "        "
   ]
  },
  {
   "cell_type": "code",
   "execution_count": 17,
   "metadata": {},
   "outputs": [
    {
     "data": {
      "text/plain": [
       "['little', 'sentence', 'longest', 'really', 'madeof']"
      ]
     },
     "execution_count": 17,
     "metadata": {},
     "output_type": "execute_result"
    }
   ],
   "source": [
    "#Takes a long word and find a word which is longer than the number given\n",
    "def filter_long_words(wordlist, n):\n",
    "    longword=[]\n",
    "    for i in wordlist:\n",
    "        if len(i) > n:\n",
    "            longlen=len(i)\n",
    "            longword.append(i)\n",
    "    return longword \n",
    "str= \"this is a set of funny little long sentence which needs to find longest words this will really be madeof\"\n",
    "list1=str.split()\n",
    "filter_long_words(list1,5)\n",
    "    \n",
    "    "
   ]
  },
  {
   "cell_type": "code",
   "execution_count": 19,
   "metadata": {},
   "outputs": [
    {
     "data": {
      "text/plain": [
       "[4, 2, 1, 3, 2, 5, 6, 4, 8, 5, 5, 2, 4, 7, 5, 4, 4, 6, 2, 6]"
      ]
     },
     "execution_count": 19,
     "metadata": {},
     "output_type": "execute_result"
    }
   ],
   "source": [
    "#Maps list of words into a list of integers representing the lengths of the corresponding words.\n",
    "def map_words_to_lengths(wordlist):\n",
    "    longword=[]\n",
    "    for i in wordlist:\n",
    "        longword.append(len(i))\n",
    "    return longword \n",
    "str= \"this is a set of funny little long sentence which needs to find longest words this will really be madeof\"\n",
    "list1=str.split()\n",
    "map_words_to_lengths(list1)"
   ]
  },
  {
   "cell_type": "code",
   "execution_count": 23,
   "metadata": {},
   "outputs": [
    {
     "data": {
      "text/plain": [
       "True"
      ]
     },
     "execution_count": 23,
     "metadata": {},
     "output_type": "execute_result"
    }
   ],
   "source": [
    "# Vowels finder function\n",
    "def find_vowels(char):\n",
    "    vowels=['a','e','i','o','u']\n",
    "    if len(char) > 1:\n",
    "        return False\n",
    "    for i in vowels:\n",
    "        if(char == i):\n",
    "            return True\n",
    "    return False\n",
    "\n",
    "find_vowels('i')\n",
    "\n",
    "\n",
    "    "
   ]
  },
  {
   "cell_type": "code",
   "execution_count": null,
   "metadata": {
    "collapsed": true
   },
   "outputs": [],
   "source": []
  }
 ],
 "metadata": {
  "kernelspec": {
   "display_name": "Python 3",
   "language": "python",
   "name": "python3"
  }
 },
 "nbformat": 4,
 "nbformat_minor": 2
}
