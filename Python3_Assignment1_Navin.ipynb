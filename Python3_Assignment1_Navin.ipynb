{
 "cells": [
  {
   "cell_type": "code",
   "execution_count": 179,
   "metadata": {},
   "outputs": [
    {
     "data": {
      "text/plain": [
       "10"
      ]
     },
     "execution_count": 179,
     "metadata": {},
     "output_type": "execute_result"
    }
   ],
   "source": [
    "#Function which does reduce similar to python reduce\n",
    "def myreduce(function, iterable):\n",
    "    reduceIterable = iter(iterable)\n",
    "    reducedvalue = next(reduceIterable)       \n",
    "   \n",
    "    for x in reduceIterable:\n",
    "        reducedvalue = function(reducedvalue, x)        \n",
    "    return reducedvalue\n",
    "\n",
    "myreduce(lambda x,y:x+y,[4,1,2,3])\n",
    "\n",
    "        "
   ]
  },
  {
   "cell_type": "code",
   "execution_count": 180,
   "metadata": {},
   "outputs": [
    {
     "name": "stdout",
     "output_type": "stream",
     "text": [
      "[15, 16, 17, 18, 19]\n"
     ]
    }
   ],
   "source": [
    "def myfilter(function, iterable):\n",
    "    returnlist=[]\n",
    "    for item in iterable:\n",
    "        if function(item):\n",
    "            returnlist.append(item)\n",
    "    return returnlist\n",
    "\n",
    "\n",
    "#[item for item in iterable if function(item)] \n",
    "\n",
    "    \n",
    "\n",
    "number_list = range(15, 25)\n",
    "print(myfilter(lambda x: x < 20, number_list))\n"
   ]
  },
  {
   "cell_type": "code",
   "execution_count": 181,
   "metadata": {},
   "outputs": [
    {
     "name": "stdout",
     "output_type": "stream",
     "text": [
      "['A', 'C', 'A', 'D', 'G', 'I', 'L', 'D']\n",
      "['x', 'xx', 'xxx', 'xxxx', 'y', 'yy', 'yyy', 'yyyy', 'z', 'zz', 'zzz', 'zzzz']\n",
      "['x', 'y', 'z', 'xx', 'yy', 'zz', 'xxx', 'yyy', 'zzz', 'xxxx', 'yyyy', 'zzzz']\n",
      "[[2], [3], [4], [3], [4], [5], [4], [5], [6]]\n",
      "[[2, 3, 4, 5], [3, 4, 5, 6], [4, 5, 6, 7], [5, 6, 7, 8]]\n",
      "[(1, 1), (2, 1), (3, 1), (1, 2), (2, 2), (3, 2), (1, 3), (2, 3), (3, 3)]\n"
     ]
    }
   ],
   "source": [
    "#Produce list comprehension for below\n",
    "# to make list of string acadgild\n",
    "str=\"ACADGILD\"\n",
    "institutenamelist=[]\n",
    "[institutenamelist.append(i) for i in str]\n",
    "print(institutenamelist)\n",
    "\n",
    "# to make list of ['x', 'xx', 'xxx', 'xxxx', 'y', 'yy', 'yyy', 'yyyy', 'z', 'zz', 'zzz', 'zzzz']\n",
    "strloop=\"xyz\"\n",
    "loop1list= [i*j for i  in strloop for j in range(1,5)  ] \n",
    "print(loop1list)\n",
    "\n",
    "# to make list of ['x', 'y', 'z', 'xx', 'yy', 'zz', 'xx', 'yy', 'zz', 'xxxx', 'yyyy', 'zzzz']\n",
    "strloop=\"xyz\"\n",
    "loop2list=[ i*j for j in range(1,5) for i  in strloop ] \n",
    "print(loop2list)\n",
    "\n",
    "#to make list of [[2], [3], [4], [3], [4], [5], [4], [5], [6]]\n",
    "loop3list=[]\n",
    "[loop3list.append([j])  for k in range(2,5) for j in range(k,(k+3)) ]\n",
    "print(loop3list)# to make list of [[2, 3, 4, 5], [3, 4, 5, 6], [4, 5, 6, 7], [5, 6, 7, 8]]\n",
    "loop4list=[]\n",
    "loop4list=[[j for j in range(k,(k+4)) ] for k in range(2,6)]\n",
    "print(loop4list)\n",
    "\n",
    "#[(1, 1), (2, 1), (3, 1), (1, 2), (2, 2), (3, 2), (1, 3), (2, 3), (3, 3)]\n",
    "loop5list=[]\n",
    "loop5list=[(i,j) for j in range(1,4) for i in range(1,4)]\n",
    "print(loop5list)"
   ]
  },
  {
   "cell_type": "code",
   "execution_count": 182,
   "metadata": {},
   "outputs": [
    {
     "data": {
      "text/plain": [
       "'sentence'"
      ]
     },
     "execution_count": 182,
     "metadata": {},
     "output_type": "execute_result"
    }
   ],
   "source": [
    "# Function which returns longest words from a list of words\n",
    "def longestword(wordlist):\n",
    "    longlen=0\n",
    "    longword=\"\"\n",
    "    for i in wordlist:\n",
    "        if len(i) > longlen:\n",
    "            longlen=len(i)\n",
    "            longword=i\n",
    "    return longword             \n",
    "str= \"this is a set of funny little long sentence which needs to find longest words this will really be madeof\"\n",
    "list1=str.split()\n",
    "longestword(list1)"
   ]
  },
  {
   "cell_type": "code",
   "execution_count": null,
   "metadata": {
    "collapsed": true
   },
   "outputs": [],
   "source": []
  }
 ],
 "metadata": {
  "kernelspec": {
   "display_name": "Python 3",
   "language": "python",
   "name": "python3"
  }
 },
 "nbformat": 4,
 "nbformat_minor": 2
}
