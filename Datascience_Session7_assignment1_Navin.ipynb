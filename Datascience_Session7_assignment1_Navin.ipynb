{
 "cells": [
  {
   "cell_type": "code",
   "execution_count": 28,
   "metadata": {},
   "outputs": [
    {
     "data": {
      "text/plain": [
       "[5.0,\n",
       " 4.666666666666667,\n",
       " 5.666666666666667,\n",
       " 6.666666666666667,\n",
       " 9.6666666666666661,\n",
       " 28.666666666666668,\n",
       " 49.333333333333336,\n",
       " 72.666666666666671,\n",
       " 84.0,\n",
       " 93.333333333333329,\n",
       " 116.33333333333333]"
      ]
     },
     "execution_count": 28,
     "metadata": {},
     "output_type": "execute_result"
    }
   ],
   "source": [
    "#Given a sequence of n values x1, x2, ..., xn and a window size k>0, the k-th moving average of the given sequence is defined as follows\n",
    "import numpy as np\n",
    "\n",
    "def mov_avg_window(k,inputarr):\n",
    "    import numpy as np\n",
    "    n=len(inputarr)\n",
    "    endloop = n-k+1\n",
    "    i=0\n",
    "    returnlist=[]\n",
    "    while(i<endloop):\n",
    "        window=inputarr[i:(k+i)]\n",
    "        returnlist.append(np.average(window))\n",
    "        i+=1\n",
    "    return returnlist\n",
    "\n",
    "inputarray= [3, 5, 7, 2, 8, 10, 11, 65, 72, 81, 99, 100, 150]\n",
    "#inputarray= [10,20,30,40,50,60,70,80,90,100]\n",
    " \n",
    "mov_avg_window(3,inputarray)\n"
   ]
  },
  {
   "cell_type": "code",
   "execution_count": null,
   "metadata": {
    "collapsed": true
   },
   "outputs": [],
   "source": []
  }
 ],
 "metadata": {
  "kernelspec": {
   "display_name": "Python 3",
   "language": "python",
   "name": "python3"
  },
  "language_info": {
   "codemirror_mode": {
    "name": "ipython",
    "version": 3
   },
   "file_extension": ".py",
   "mimetype": "text/x-python",
   "name": "python",
   "nbconvert_exporter": "python",
   "pygments_lexer": "ipython3",
   "version": "3.6.2"
  }
 },
 "nbformat": 4,
 "nbformat_minor": 2
}
